{
  "cells": [
    {
      "cell_type": "markdown",
      "source": [
        "#### Reading the clean data"
      ],
      "metadata": {
        "id": "T8pBT7y5T3_l"
      }
    },
    {
      "cell_type": "code",
      "execution_count": null,
      "metadata": {
        "id": "zIPmkmf0ahSj",
        "colab": {
          "base_uri": "https://localhost:8080/",
          "height": 206
        },
        "outputId": "befdf9fe-d2b9-44b9-f2c8-fea1f5091088"
      },
      "outputs": [
        {
          "output_type": "execute_result",
          "data": {
            "text/plain": [
              "      type  beds  baths  garage  lot_sqft    sqft  stories  listPrice  \\\n",
              "456      1     3      3       1    3751.0  2170.0       39   549900.0   \n",
              "94       1     2      2       2    3751.0   950.0        3   260000.0   \n",
              "1282     4     6      2       2    3751.0  2349.0        2   375000.0   \n",
              "369      1     3      3       1    3751.0  1550.0        3   975000.0   \n",
              "1442     1     1      1       1    3751.0   785.0       26   165000.0   \n",
              "\n",
              "      age_range  \n",
              "456           3  \n",
              "94            1  \n",
              "1282          2  \n",
              "369           0  \n",
              "1442          4  "
            ],
            "text/html": [
              "\n",
              "  <div id=\"df-72771db6-cd9e-4f0a-9d66-6084bc973322\" class=\"colab-df-container\">\n",
              "    <div>\n",
              "<style scoped>\n",
              "    .dataframe tbody tr th:only-of-type {\n",
              "        vertical-align: middle;\n",
              "    }\n",
              "\n",
              "    .dataframe tbody tr th {\n",
              "        vertical-align: top;\n",
              "    }\n",
              "\n",
              "    .dataframe thead th {\n",
              "        text-align: right;\n",
              "    }\n",
              "</style>\n",
              "<table border=\"1\" class=\"dataframe\">\n",
              "  <thead>\n",
              "    <tr style=\"text-align: right;\">\n",
              "      <th></th>\n",
              "      <th>type</th>\n",
              "      <th>beds</th>\n",
              "      <th>baths</th>\n",
              "      <th>garage</th>\n",
              "      <th>lot_sqft</th>\n",
              "      <th>sqft</th>\n",
              "      <th>stories</th>\n",
              "      <th>listPrice</th>\n",
              "      <th>age_range</th>\n",
              "    </tr>\n",
              "  </thead>\n",
              "  <tbody>\n",
              "    <tr>\n",
              "      <th>456</th>\n",
              "      <td>1</td>\n",
              "      <td>3</td>\n",
              "      <td>3</td>\n",
              "      <td>1</td>\n",
              "      <td>3751.0</td>\n",
              "      <td>2170.0</td>\n",
              "      <td>39</td>\n",
              "      <td>549900.0</td>\n",
              "      <td>3</td>\n",
              "    </tr>\n",
              "    <tr>\n",
              "      <th>94</th>\n",
              "      <td>1</td>\n",
              "      <td>2</td>\n",
              "      <td>2</td>\n",
              "      <td>2</td>\n",
              "      <td>3751.0</td>\n",
              "      <td>950.0</td>\n",
              "      <td>3</td>\n",
              "      <td>260000.0</td>\n",
              "      <td>1</td>\n",
              "    </tr>\n",
              "    <tr>\n",
              "      <th>1282</th>\n",
              "      <td>4</td>\n",
              "      <td>6</td>\n",
              "      <td>2</td>\n",
              "      <td>2</td>\n",
              "      <td>3751.0</td>\n",
              "      <td>2349.0</td>\n",
              "      <td>2</td>\n",
              "      <td>375000.0</td>\n",
              "      <td>2</td>\n",
              "    </tr>\n",
              "    <tr>\n",
              "      <th>369</th>\n",
              "      <td>1</td>\n",
              "      <td>3</td>\n",
              "      <td>3</td>\n",
              "      <td>1</td>\n",
              "      <td>3751.0</td>\n",
              "      <td>1550.0</td>\n",
              "      <td>3</td>\n",
              "      <td>975000.0</td>\n",
              "      <td>0</td>\n",
              "    </tr>\n",
              "    <tr>\n",
              "      <th>1442</th>\n",
              "      <td>1</td>\n",
              "      <td>1</td>\n",
              "      <td>1</td>\n",
              "      <td>1</td>\n",
              "      <td>3751.0</td>\n",
              "      <td>785.0</td>\n",
              "      <td>26</td>\n",
              "      <td>165000.0</td>\n",
              "      <td>4</td>\n",
              "    </tr>\n",
              "  </tbody>\n",
              "</table>\n",
              "</div>\n",
              "    <div class=\"colab-df-buttons\">\n",
              "\n",
              "  <div class=\"colab-df-container\">\n",
              "    <button class=\"colab-df-convert\" onclick=\"convertToInteractive('df-72771db6-cd9e-4f0a-9d66-6084bc973322')\"\n",
              "            title=\"Convert this dataframe to an interactive table.\"\n",
              "            style=\"display:none;\">\n",
              "\n",
              "  <svg xmlns=\"http://www.w3.org/2000/svg\" height=\"24px\" viewBox=\"0 -960 960 960\">\n",
              "    <path d=\"M120-120v-720h720v720H120Zm60-500h600v-160H180v160Zm220 220h160v-160H400v160Zm0 220h160v-160H400v160ZM180-400h160v-160H180v160Zm440 0h160v-160H620v160ZM180-180h160v-160H180v160Zm440 0h160v-160H620v160Z\"/>\n",
              "  </svg>\n",
              "    </button>\n",
              "\n",
              "  <style>\n",
              "    .colab-df-container {\n",
              "      display:flex;\n",
              "      gap: 12px;\n",
              "    }\n",
              "\n",
              "    .colab-df-convert {\n",
              "      background-color: #E8F0FE;\n",
              "      border: none;\n",
              "      border-radius: 50%;\n",
              "      cursor: pointer;\n",
              "      display: none;\n",
              "      fill: #1967D2;\n",
              "      height: 32px;\n",
              "      padding: 0 0 0 0;\n",
              "      width: 32px;\n",
              "    }\n",
              "\n",
              "    .colab-df-convert:hover {\n",
              "      background-color: #E2EBFA;\n",
              "      box-shadow: 0px 1px 2px rgba(60, 64, 67, 0.3), 0px 1px 3px 1px rgba(60, 64, 67, 0.15);\n",
              "      fill: #174EA6;\n",
              "    }\n",
              "\n",
              "    .colab-df-buttons div {\n",
              "      margin-bottom: 4px;\n",
              "    }\n",
              "\n",
              "    [theme=dark] .colab-df-convert {\n",
              "      background-color: #3B4455;\n",
              "      fill: #D2E3FC;\n",
              "    }\n",
              "\n",
              "    [theme=dark] .colab-df-convert:hover {\n",
              "      background-color: #434B5C;\n",
              "      box-shadow: 0px 1px 3px 1px rgba(0, 0, 0, 0.15);\n",
              "      filter: drop-shadow(0px 1px 2px rgba(0, 0, 0, 0.3));\n",
              "      fill: #FFFFFF;\n",
              "    }\n",
              "  </style>\n",
              "\n",
              "    <script>\n",
              "      const buttonEl =\n",
              "        document.querySelector('#df-72771db6-cd9e-4f0a-9d66-6084bc973322 button.colab-df-convert');\n",
              "      buttonEl.style.display =\n",
              "        google.colab.kernel.accessAllowed ? 'block' : 'none';\n",
              "\n",
              "      async function convertToInteractive(key) {\n",
              "        const element = document.querySelector('#df-72771db6-cd9e-4f0a-9d66-6084bc973322');\n",
              "        const dataTable =\n",
              "          await google.colab.kernel.invokeFunction('convertToInteractive',\n",
              "                                                    [key], {});\n",
              "        if (!dataTable) return;\n",
              "\n",
              "        const docLinkHtml = 'Like what you see? Visit the ' +\n",
              "          '<a target=\"_blank\" href=https://colab.research.google.com/notebooks/data_table.ipynb>data table notebook</a>'\n",
              "          + ' to learn more about interactive tables.';\n",
              "        element.innerHTML = '';\n",
              "        dataTable['output_type'] = 'display_data';\n",
              "        await google.colab.output.renderOutput(dataTable, element);\n",
              "        const docLink = document.createElement('div');\n",
              "        docLink.innerHTML = docLinkHtml;\n",
              "        element.appendChild(docLink);\n",
              "      }\n",
              "    </script>\n",
              "  </div>\n",
              "\n",
              "\n",
              "<div id=\"df-2e5fb7b4-c749-4a8c-ad27-24a0a93f6aae\">\n",
              "  <button class=\"colab-df-quickchart\" onclick=\"quickchart('df-2e5fb7b4-c749-4a8c-ad27-24a0a93f6aae')\"\n",
              "            title=\"Suggest charts\"\n",
              "            style=\"display:none;\">\n",
              "\n",
              "<svg xmlns=\"http://www.w3.org/2000/svg\" height=\"24px\"viewBox=\"0 0 24 24\"\n",
              "     width=\"24px\">\n",
              "    <g>\n",
              "        <path d=\"M19 3H5c-1.1 0-2 .9-2 2v14c0 1.1.9 2 2 2h14c1.1 0 2-.9 2-2V5c0-1.1-.9-2-2-2zM9 17H7v-7h2v7zm4 0h-2V7h2v10zm4 0h-2v-4h2v4z\"/>\n",
              "    </g>\n",
              "</svg>\n",
              "  </button>\n",
              "\n",
              "<style>\n",
              "  .colab-df-quickchart {\n",
              "      --bg-color: #E8F0FE;\n",
              "      --fill-color: #1967D2;\n",
              "      --hover-bg-color: #E2EBFA;\n",
              "      --hover-fill-color: #174EA6;\n",
              "      --disabled-fill-color: #AAA;\n",
              "      --disabled-bg-color: #DDD;\n",
              "  }\n",
              "\n",
              "  [theme=dark] .colab-df-quickchart {\n",
              "      --bg-color: #3B4455;\n",
              "      --fill-color: #D2E3FC;\n",
              "      --hover-bg-color: #434B5C;\n",
              "      --hover-fill-color: #FFFFFF;\n",
              "      --disabled-bg-color: #3B4455;\n",
              "      --disabled-fill-color: #666;\n",
              "  }\n",
              "\n",
              "  .colab-df-quickchart {\n",
              "    background-color: var(--bg-color);\n",
              "    border: none;\n",
              "    border-radius: 50%;\n",
              "    cursor: pointer;\n",
              "    display: none;\n",
              "    fill: var(--fill-color);\n",
              "    height: 32px;\n",
              "    padding: 0;\n",
              "    width: 32px;\n",
              "  }\n",
              "\n",
              "  .colab-df-quickchart:hover {\n",
              "    background-color: var(--hover-bg-color);\n",
              "    box-shadow: 0 1px 2px rgba(60, 64, 67, 0.3), 0 1px 3px 1px rgba(60, 64, 67, 0.15);\n",
              "    fill: var(--button-hover-fill-color);\n",
              "  }\n",
              "\n",
              "  .colab-df-quickchart-complete:disabled,\n",
              "  .colab-df-quickchart-complete:disabled:hover {\n",
              "    background-color: var(--disabled-bg-color);\n",
              "    fill: var(--disabled-fill-color);\n",
              "    box-shadow: none;\n",
              "  }\n",
              "\n",
              "  .colab-df-spinner {\n",
              "    border: 2px solid var(--fill-color);\n",
              "    border-color: transparent;\n",
              "    border-bottom-color: var(--fill-color);\n",
              "    animation:\n",
              "      spin 1s steps(1) infinite;\n",
              "  }\n",
              "\n",
              "  @keyframes spin {\n",
              "    0% {\n",
              "      border-color: transparent;\n",
              "      border-bottom-color: var(--fill-color);\n",
              "      border-left-color: var(--fill-color);\n",
              "    }\n",
              "    20% {\n",
              "      border-color: transparent;\n",
              "      border-left-color: var(--fill-color);\n",
              "      border-top-color: var(--fill-color);\n",
              "    }\n",
              "    30% {\n",
              "      border-color: transparent;\n",
              "      border-left-color: var(--fill-color);\n",
              "      border-top-color: var(--fill-color);\n",
              "      border-right-color: var(--fill-color);\n",
              "    }\n",
              "    40% {\n",
              "      border-color: transparent;\n",
              "      border-right-color: var(--fill-color);\n",
              "      border-top-color: var(--fill-color);\n",
              "    }\n",
              "    60% {\n",
              "      border-color: transparent;\n",
              "      border-right-color: var(--fill-color);\n",
              "    }\n",
              "    80% {\n",
              "      border-color: transparent;\n",
              "      border-right-color: var(--fill-color);\n",
              "      border-bottom-color: var(--fill-color);\n",
              "    }\n",
              "    90% {\n",
              "      border-color: transparent;\n",
              "      border-bottom-color: var(--fill-color);\n",
              "    }\n",
              "  }\n",
              "</style>\n",
              "\n",
              "  <script>\n",
              "    async function quickchart(key) {\n",
              "      const quickchartButtonEl =\n",
              "        document.querySelector('#' + key + ' button');\n",
              "      quickchartButtonEl.disabled = true;  // To prevent multiple clicks.\n",
              "      quickchartButtonEl.classList.add('colab-df-spinner');\n",
              "      try {\n",
              "        const charts = await google.colab.kernel.invokeFunction(\n",
              "            'suggestCharts', [key], {});\n",
              "      } catch (error) {\n",
              "        console.error('Error during call to suggestCharts:', error);\n",
              "      }\n",
              "      quickchartButtonEl.classList.remove('colab-df-spinner');\n",
              "      quickchartButtonEl.classList.add('colab-df-quickchart-complete');\n",
              "    }\n",
              "    (() => {\n",
              "      let quickchartButtonEl =\n",
              "        document.querySelector('#df-2e5fb7b4-c749-4a8c-ad27-24a0a93f6aae button');\n",
              "      quickchartButtonEl.style.display =\n",
              "        google.colab.kernel.accessAllowed ? 'block' : 'none';\n",
              "    })();\n",
              "  </script>\n",
              "</div>\n",
              "\n",
              "    </div>\n",
              "  </div>\n"
            ],
            "application/vnd.google.colaboratory.intrinsic+json": {
              "type": "dataframe",
              "summary": "{\n  \"name\": \"data\",\n  \"rows\": 5,\n  \"fields\": [\n    {\n      \"column\": \"type\",\n      \"properties\": {\n        \"dtype\": \"number\",\n        \"std\": 1,\n        \"min\": 1,\n        \"max\": 4,\n        \"num_unique_values\": 2,\n        \"samples\": [\n          4,\n          1\n        ],\n        \"semantic_type\": \"\",\n        \"description\": \"\"\n      }\n    },\n    {\n      \"column\": \"beds\",\n      \"properties\": {\n        \"dtype\": \"number\",\n        \"std\": 1,\n        \"min\": 1,\n        \"max\": 6,\n        \"num_unique_values\": 4,\n        \"samples\": [\n          2,\n          1\n        ],\n        \"semantic_type\": \"\",\n        \"description\": \"\"\n      }\n    },\n    {\n      \"column\": \"baths\",\n      \"properties\": {\n        \"dtype\": \"number\",\n        \"std\": 0,\n        \"min\": 1,\n        \"max\": 3,\n        \"num_unique_values\": 3,\n        \"samples\": [\n          3,\n          2\n        ],\n        \"semantic_type\": \"\",\n        \"description\": \"\"\n      }\n    },\n    {\n      \"column\": \"garage\",\n      \"properties\": {\n        \"dtype\": \"number\",\n        \"std\": 0,\n        \"min\": 1,\n        \"max\": 2,\n        \"num_unique_values\": 2,\n        \"samples\": [\n          2,\n          1\n        ],\n        \"semantic_type\": \"\",\n        \"description\": \"\"\n      }\n    },\n    {\n      \"column\": \"lot_sqft\",\n      \"properties\": {\n        \"dtype\": \"number\",\n        \"std\": 0.0,\n        \"min\": 3751.0,\n        \"max\": 3751.0,\n        \"num_unique_values\": 1,\n        \"samples\": [\n          3751.0\n        ],\n        \"semantic_type\": \"\",\n        \"description\": \"\"\n      }\n    },\n    {\n      \"column\": \"sqft\",\n      \"properties\": {\n        \"dtype\": \"number\",\n        \"std\": 701.3278120821959,\n        \"min\": 785.0,\n        \"max\": 2349.0,\n        \"num_unique_values\": 5,\n        \"samples\": [\n          950.0\n        ],\n        \"semantic_type\": \"\",\n        \"description\": \"\"\n      }\n    },\n    {\n      \"column\": \"stories\",\n      \"properties\": {\n        \"dtype\": \"number\",\n        \"std\": 16,\n        \"min\": 2,\n        \"max\": 39,\n        \"num_unique_values\": 4,\n        \"samples\": [\n          3\n        ],\n        \"semantic_type\": \"\",\n        \"description\": \"\"\n      }\n    },\n    {\n      \"column\": \"listPrice\",\n      \"properties\": {\n        \"dtype\": \"number\",\n        \"std\": 319152.3961996839,\n        \"min\": 165000.0,\n        \"max\": 975000.0,\n        \"num_unique_values\": 5,\n        \"samples\": [\n          260000.0\n        ],\n        \"semantic_type\": \"\",\n        \"description\": \"\"\n      }\n    },\n    {\n      \"column\": \"age_range\",\n      \"properties\": {\n        \"dtype\": \"number\",\n        \"std\": 1,\n        \"min\": 0,\n        \"max\": 4,\n        \"num_unique_values\": 5,\n        \"samples\": [\n          1\n        ],\n        \"semantic_type\": \"\",\n        \"description\": \"\"\n      }\n    }\n  ]\n}"
            }
          },
          "metadata": {},
          "execution_count": 9
        }
      ],
      "source": [
        "import pandas as pd\n",
        "import numpy as np\n",
        "import matplotlib.pyplot as plt\n",
        "import seaborn as sns\n",
        "# Read the CSV file containing real estate data into a pandas DataFrame\n",
        "data = pd.read_csv('/content/data_RealEstateDataChicago.csv')\n",
        "\n",
        "# Suppressing warnings\n",
        "import warnings\n",
        "warnings.filterwarnings('ignore')  # Ignore warnings to keep the output clean\n",
        "\n",
        "# Display a random sample of 5 rows from the DataFrame\n",
        "# This helps in quickly inspecting the structure and content of the data\n",
        "data.sample(5)"
      ]
    },
    {
      "cell_type": "code",
      "source": [
        "data.info()"
      ],
      "metadata": {
        "colab": {
          "base_uri": "https://localhost:8080/"
        },
        "id": "zaNQiR-2NR_6",
        "outputId": "01680d8a-3bea-435c-fcfc-906b3f47e727"
      },
      "execution_count": null,
      "outputs": [
        {
          "output_type": "stream",
          "name": "stdout",
          "text": [
            "<class 'pandas.core.frame.DataFrame'>\n",
            "RangeIndex: 1998 entries, 0 to 1997\n",
            "Data columns (total 9 columns):\n",
            " #   Column     Non-Null Count  Dtype  \n",
            "---  ------     --------------  -----  \n",
            " 0   type       1998 non-null   int64  \n",
            " 1   beds       1998 non-null   int64  \n",
            " 2   baths      1998 non-null   int64  \n",
            " 3   garage     1998 non-null   int64  \n",
            " 4   lot_sqft   1998 non-null   float64\n",
            " 5   sqft       1998 non-null   float64\n",
            " 6   stories    1998 non-null   int64  \n",
            " 7   listPrice  1998 non-null   float64\n",
            " 8   age_range  1998 non-null   int64  \n",
            "dtypes: float64(3), int64(6)\n",
            "memory usage: 140.6 KB\n"
          ]
        }
      ]
    },
    {
      "cell_type": "code",
      "source": [
        "data.describe().T"
      ],
      "metadata": {
        "colab": {
          "base_uri": "https://localhost:8080/",
          "height": 332
        },
        "id": "nTTmMx3sNXdZ",
        "outputId": "e1556c87-60ad-4ac7-c66e-e62e4b701350"
      },
      "execution_count": null,
      "outputs": [
        {
          "output_type": "execute_result",
          "data": {
            "text/plain": [
              "            count           mean           std  min        25%       50%  \\\n",
              "type       1998.0       3.407908  1.903605e+00  0.0       1.00       5.0   \n",
              "beds       1998.0       3.193193  1.818702e+00  0.0       2.00       3.0   \n",
              "baths      1998.0       2.441942  1.454839e+00  0.0       2.00       2.0   \n",
              "garage     1998.0       2.026527  9.111164e+00  0.0       1.00       2.0   \n",
              "lot_sqft   1998.0    5433.124124  4.836378e+04  0.0    3750.00    3751.0   \n",
              "sqft       1998.0    1881.536537  1.492463e+03  0.0    1216.25    1550.0   \n",
              "stories    1998.0       6.145145  1.193791e+01  0.0       2.00       2.0   \n",
              "listPrice  1998.0  600872.606106  1.201199e+06  0.0  225000.00  349900.0   \n",
              "age_range  1998.0       2.127628  1.584928e+00  0.0       1.00       2.0   \n",
              "\n",
              "                75%         max  \n",
              "type            5.0         6.0  \n",
              "beds            4.0        21.0  \n",
              "baths           3.0        13.0  \n",
              "garage          2.0       400.0  \n",
              "lot_sqft     3751.0   2156000.0  \n",
              "sqft         2000.0     25000.0  \n",
              "stories         3.0       119.0  \n",
              "listPrice  575000.0  23500000.0  \n",
              "age_range       4.0         4.0  "
            ],
            "text/html": [
              "\n",
              "  <div id=\"df-01000ed8-a22c-4d18-8d8e-b6576017d3e3\" class=\"colab-df-container\">\n",
              "    <div>\n",
              "<style scoped>\n",
              "    .dataframe tbody tr th:only-of-type {\n",
              "        vertical-align: middle;\n",
              "    }\n",
              "\n",
              "    .dataframe tbody tr th {\n",
              "        vertical-align: top;\n",
              "    }\n",
              "\n",
              "    .dataframe thead th {\n",
              "        text-align: right;\n",
              "    }\n",
              "</style>\n",
              "<table border=\"1\" class=\"dataframe\">\n",
              "  <thead>\n",
              "    <tr style=\"text-align: right;\">\n",
              "      <th></th>\n",
              "      <th>count</th>\n",
              "      <th>mean</th>\n",
              "      <th>std</th>\n",
              "      <th>min</th>\n",
              "      <th>25%</th>\n",
              "      <th>50%</th>\n",
              "      <th>75%</th>\n",
              "      <th>max</th>\n",
              "    </tr>\n",
              "  </thead>\n",
              "  <tbody>\n",
              "    <tr>\n",
              "      <th>type</th>\n",
              "      <td>1998.0</td>\n",
              "      <td>3.407908</td>\n",
              "      <td>1.903605e+00</td>\n",
              "      <td>0.0</td>\n",
              "      <td>1.00</td>\n",
              "      <td>5.0</td>\n",
              "      <td>5.0</td>\n",
              "      <td>6.0</td>\n",
              "    </tr>\n",
              "    <tr>\n",
              "      <th>beds</th>\n",
              "      <td>1998.0</td>\n",
              "      <td>3.193193</td>\n",
              "      <td>1.818702e+00</td>\n",
              "      <td>0.0</td>\n",
              "      <td>2.00</td>\n",
              "      <td>3.0</td>\n",
              "      <td>4.0</td>\n",
              "      <td>21.0</td>\n",
              "    </tr>\n",
              "    <tr>\n",
              "      <th>baths</th>\n",
              "      <td>1998.0</td>\n",
              "      <td>2.441942</td>\n",
              "      <td>1.454839e+00</td>\n",
              "      <td>0.0</td>\n",
              "      <td>2.00</td>\n",
              "      <td>2.0</td>\n",
              "      <td>3.0</td>\n",
              "      <td>13.0</td>\n",
              "    </tr>\n",
              "    <tr>\n",
              "      <th>garage</th>\n",
              "      <td>1998.0</td>\n",
              "      <td>2.026527</td>\n",
              "      <td>9.111164e+00</td>\n",
              "      <td>0.0</td>\n",
              "      <td>1.00</td>\n",
              "      <td>2.0</td>\n",
              "      <td>2.0</td>\n",
              "      <td>400.0</td>\n",
              "    </tr>\n",
              "    <tr>\n",
              "      <th>lot_sqft</th>\n",
              "      <td>1998.0</td>\n",
              "      <td>5433.124124</td>\n",
              "      <td>4.836378e+04</td>\n",
              "      <td>0.0</td>\n",
              "      <td>3750.00</td>\n",
              "      <td>3751.0</td>\n",
              "      <td>3751.0</td>\n",
              "      <td>2156000.0</td>\n",
              "    </tr>\n",
              "    <tr>\n",
              "      <th>sqft</th>\n",
              "      <td>1998.0</td>\n",
              "      <td>1881.536537</td>\n",
              "      <td>1.492463e+03</td>\n",
              "      <td>0.0</td>\n",
              "      <td>1216.25</td>\n",
              "      <td>1550.0</td>\n",
              "      <td>2000.0</td>\n",
              "      <td>25000.0</td>\n",
              "    </tr>\n",
              "    <tr>\n",
              "      <th>stories</th>\n",
              "      <td>1998.0</td>\n",
              "      <td>6.145145</td>\n",
              "      <td>1.193791e+01</td>\n",
              "      <td>0.0</td>\n",
              "      <td>2.00</td>\n",
              "      <td>2.0</td>\n",
              "      <td>3.0</td>\n",
              "      <td>119.0</td>\n",
              "    </tr>\n",
              "    <tr>\n",
              "      <th>listPrice</th>\n",
              "      <td>1998.0</td>\n",
              "      <td>600872.606106</td>\n",
              "      <td>1.201199e+06</td>\n",
              "      <td>0.0</td>\n",
              "      <td>225000.00</td>\n",
              "      <td>349900.0</td>\n",
              "      <td>575000.0</td>\n",
              "      <td>23500000.0</td>\n",
              "    </tr>\n",
              "    <tr>\n",
              "      <th>age_range</th>\n",
              "      <td>1998.0</td>\n",
              "      <td>2.127628</td>\n",
              "      <td>1.584928e+00</td>\n",
              "      <td>0.0</td>\n",
              "      <td>1.00</td>\n",
              "      <td>2.0</td>\n",
              "      <td>4.0</td>\n",
              "      <td>4.0</td>\n",
              "    </tr>\n",
              "  </tbody>\n",
              "</table>\n",
              "</div>\n",
              "    <div class=\"colab-df-buttons\">\n",
              "\n",
              "  <div class=\"colab-df-container\">\n",
              "    <button class=\"colab-df-convert\" onclick=\"convertToInteractive('df-01000ed8-a22c-4d18-8d8e-b6576017d3e3')\"\n",
              "            title=\"Convert this dataframe to an interactive table.\"\n",
              "            style=\"display:none;\">\n",
              "\n",
              "  <svg xmlns=\"http://www.w3.org/2000/svg\" height=\"24px\" viewBox=\"0 -960 960 960\">\n",
              "    <path d=\"M120-120v-720h720v720H120Zm60-500h600v-160H180v160Zm220 220h160v-160H400v160Zm0 220h160v-160H400v160ZM180-400h160v-160H180v160Zm440 0h160v-160H620v160ZM180-180h160v-160H180v160Zm440 0h160v-160H620v160Z\"/>\n",
              "  </svg>\n",
              "    </button>\n",
              "\n",
              "  <style>\n",
              "    .colab-df-container {\n",
              "      display:flex;\n",
              "      gap: 12px;\n",
              "    }\n",
              "\n",
              "    .colab-df-convert {\n",
              "      background-color: #E8F0FE;\n",
              "      border: none;\n",
              "      border-radius: 50%;\n",
              "      cursor: pointer;\n",
              "      display: none;\n",
              "      fill: #1967D2;\n",
              "      height: 32px;\n",
              "      padding: 0 0 0 0;\n",
              "      width: 32px;\n",
              "    }\n",
              "\n",
              "    .colab-df-convert:hover {\n",
              "      background-color: #E2EBFA;\n",
              "      box-shadow: 0px 1px 2px rgba(60, 64, 67, 0.3), 0px 1px 3px 1px rgba(60, 64, 67, 0.15);\n",
              "      fill: #174EA6;\n",
              "    }\n",
              "\n",
              "    .colab-df-buttons div {\n",
              "      margin-bottom: 4px;\n",
              "    }\n",
              "\n",
              "    [theme=dark] .colab-df-convert {\n",
              "      background-color: #3B4455;\n",
              "      fill: #D2E3FC;\n",
              "    }\n",
              "\n",
              "    [theme=dark] .colab-df-convert:hover {\n",
              "      background-color: #434B5C;\n",
              "      box-shadow: 0px 1px 3px 1px rgba(0, 0, 0, 0.15);\n",
              "      filter: drop-shadow(0px 1px 2px rgba(0, 0, 0, 0.3));\n",
              "      fill: #FFFFFF;\n",
              "    }\n",
              "  </style>\n",
              "\n",
              "    <script>\n",
              "      const buttonEl =\n",
              "        document.querySelector('#df-01000ed8-a22c-4d18-8d8e-b6576017d3e3 button.colab-df-convert');\n",
              "      buttonEl.style.display =\n",
              "        google.colab.kernel.accessAllowed ? 'block' : 'none';\n",
              "\n",
              "      async function convertToInteractive(key) {\n",
              "        const element = document.querySelector('#df-01000ed8-a22c-4d18-8d8e-b6576017d3e3');\n",
              "        const dataTable =\n",
              "          await google.colab.kernel.invokeFunction('convertToInteractive',\n",
              "                                                    [key], {});\n",
              "        if (!dataTable) return;\n",
              "\n",
              "        const docLinkHtml = 'Like what you see? Visit the ' +\n",
              "          '<a target=\"_blank\" href=https://colab.research.google.com/notebooks/data_table.ipynb>data table notebook</a>'\n",
              "          + ' to learn more about interactive tables.';\n",
              "        element.innerHTML = '';\n",
              "        dataTable['output_type'] = 'display_data';\n",
              "        await google.colab.output.renderOutput(dataTable, element);\n",
              "        const docLink = document.createElement('div');\n",
              "        docLink.innerHTML = docLinkHtml;\n",
              "        element.appendChild(docLink);\n",
              "      }\n",
              "    </script>\n",
              "  </div>\n",
              "\n",
              "\n",
              "<div id=\"df-df14cd3b-d119-410c-bde2-d292b38c257d\">\n",
              "  <button class=\"colab-df-quickchart\" onclick=\"quickchart('df-df14cd3b-d119-410c-bde2-d292b38c257d')\"\n",
              "            title=\"Suggest charts\"\n",
              "            style=\"display:none;\">\n",
              "\n",
              "<svg xmlns=\"http://www.w3.org/2000/svg\" height=\"24px\"viewBox=\"0 0 24 24\"\n",
              "     width=\"24px\">\n",
              "    <g>\n",
              "        <path d=\"M19 3H5c-1.1 0-2 .9-2 2v14c0 1.1.9 2 2 2h14c1.1 0 2-.9 2-2V5c0-1.1-.9-2-2-2zM9 17H7v-7h2v7zm4 0h-2V7h2v10zm4 0h-2v-4h2v4z\"/>\n",
              "    </g>\n",
              "</svg>\n",
              "  </button>\n",
              "\n",
              "<style>\n",
              "  .colab-df-quickchart {\n",
              "      --bg-color: #E8F0FE;\n",
              "      --fill-color: #1967D2;\n",
              "      --hover-bg-color: #E2EBFA;\n",
              "      --hover-fill-color: #174EA6;\n",
              "      --disabled-fill-color: #AAA;\n",
              "      --disabled-bg-color: #DDD;\n",
              "  }\n",
              "\n",
              "  [theme=dark] .colab-df-quickchart {\n",
              "      --bg-color: #3B4455;\n",
              "      --fill-color: #D2E3FC;\n",
              "      --hover-bg-color: #434B5C;\n",
              "      --hover-fill-color: #FFFFFF;\n",
              "      --disabled-bg-color: #3B4455;\n",
              "      --disabled-fill-color: #666;\n",
              "  }\n",
              "\n",
              "  .colab-df-quickchart {\n",
              "    background-color: var(--bg-color);\n",
              "    border: none;\n",
              "    border-radius: 50%;\n",
              "    cursor: pointer;\n",
              "    display: none;\n",
              "    fill: var(--fill-color);\n",
              "    height: 32px;\n",
              "    padding: 0;\n",
              "    width: 32px;\n",
              "  }\n",
              "\n",
              "  .colab-df-quickchart:hover {\n",
              "    background-color: var(--hover-bg-color);\n",
              "    box-shadow: 0 1px 2px rgba(60, 64, 67, 0.3), 0 1px 3px 1px rgba(60, 64, 67, 0.15);\n",
              "    fill: var(--button-hover-fill-color);\n",
              "  }\n",
              "\n",
              "  .colab-df-quickchart-complete:disabled,\n",
              "  .colab-df-quickchart-complete:disabled:hover {\n",
              "    background-color: var(--disabled-bg-color);\n",
              "    fill: var(--disabled-fill-color);\n",
              "    box-shadow: none;\n",
              "  }\n",
              "\n",
              "  .colab-df-spinner {\n",
              "    border: 2px solid var(--fill-color);\n",
              "    border-color: transparent;\n",
              "    border-bottom-color: var(--fill-color);\n",
              "    animation:\n",
              "      spin 1s steps(1) infinite;\n",
              "  }\n",
              "\n",
              "  @keyframes spin {\n",
              "    0% {\n",
              "      border-color: transparent;\n",
              "      border-bottom-color: var(--fill-color);\n",
              "      border-left-color: var(--fill-color);\n",
              "    }\n",
              "    20% {\n",
              "      border-color: transparent;\n",
              "      border-left-color: var(--fill-color);\n",
              "      border-top-color: var(--fill-color);\n",
              "    }\n",
              "    30% {\n",
              "      border-color: transparent;\n",
              "      border-left-color: var(--fill-color);\n",
              "      border-top-color: var(--fill-color);\n",
              "      border-right-color: var(--fill-color);\n",
              "    }\n",
              "    40% {\n",
              "      border-color: transparent;\n",
              "      border-right-color: var(--fill-color);\n",
              "      border-top-color: var(--fill-color);\n",
              "    }\n",
              "    60% {\n",
              "      border-color: transparent;\n",
              "      border-right-color: var(--fill-color);\n",
              "    }\n",
              "    80% {\n",
              "      border-color: transparent;\n",
              "      border-right-color: var(--fill-color);\n",
              "      border-bottom-color: var(--fill-color);\n",
              "    }\n",
              "    90% {\n",
              "      border-color: transparent;\n",
              "      border-bottom-color: var(--fill-color);\n",
              "    }\n",
              "  }\n",
              "</style>\n",
              "\n",
              "  <script>\n",
              "    async function quickchart(key) {\n",
              "      const quickchartButtonEl =\n",
              "        document.querySelector('#' + key + ' button');\n",
              "      quickchartButtonEl.disabled = true;  // To prevent multiple clicks.\n",
              "      quickchartButtonEl.classList.add('colab-df-spinner');\n",
              "      try {\n",
              "        const charts = await google.colab.kernel.invokeFunction(\n",
              "            'suggestCharts', [key], {});\n",
              "      } catch (error) {\n",
              "        console.error('Error during call to suggestCharts:', error);\n",
              "      }\n",
              "      quickchartButtonEl.classList.remove('colab-df-spinner');\n",
              "      quickchartButtonEl.classList.add('colab-df-quickchart-complete');\n",
              "    }\n",
              "    (() => {\n",
              "      let quickchartButtonEl =\n",
              "        document.querySelector('#df-df14cd3b-d119-410c-bde2-d292b38c257d button');\n",
              "      quickchartButtonEl.style.display =\n",
              "        google.colab.kernel.accessAllowed ? 'block' : 'none';\n",
              "    })();\n",
              "  </script>\n",
              "</div>\n",
              "\n",
              "    </div>\n",
              "  </div>\n"
            ],
            "application/vnd.google.colaboratory.intrinsic+json": {
              "type": "dataframe",
              "summary": "{\n  \"name\": \"data\",\n  \"rows\": 9,\n  \"fields\": [\n    {\n      \"column\": \"count\",\n      \"properties\": {\n        \"dtype\": \"number\",\n        \"std\": 0.0,\n        \"min\": 1998.0,\n        \"max\": 1998.0,\n        \"num_unique_values\": 1,\n        \"samples\": [\n          1998.0\n        ],\n        \"semantic_type\": \"\",\n        \"description\": \"\"\n      }\n    },\n    {\n      \"column\": \"mean\",\n      \"properties\": {\n        \"dtype\": \"number\",\n        \"std\": 199993.5155677831,\n        \"min\": 2.0265265265265264,\n        \"max\": 600872.6061061061,\n        \"num_unique_values\": 9,\n        \"samples\": [\n          600872.6061061061\n        ],\n        \"semantic_type\": \"\",\n        \"description\": \"\"\n      }\n    },\n    {\n      \"column\": \"std\",\n      \"properties\": {\n        \"dtype\": \"number\",\n        \"std\": 398639.4876610875,\n        \"min\": 1.454839327498349,\n        \"max\": 1201198.6696938488,\n        \"num_unique_values\": 9,\n        \"samples\": [\n          1201198.6696938488\n        ],\n        \"semantic_type\": \"\",\n        \"description\": \"\"\n      }\n    },\n    {\n      \"column\": \"min\",\n      \"properties\": {\n        \"dtype\": \"number\",\n        \"std\": 0.0,\n        \"min\": 0.0,\n        \"max\": 0.0,\n        \"num_unique_values\": 1,\n        \"samples\": [\n          0.0\n        ],\n        \"semantic_type\": \"\",\n        \"description\": \"\"\n      }\n    },\n    {\n      \"column\": \"25%\",\n      \"properties\": {\n        \"dtype\": \"number\",\n        \"std\": 74803.09897760104,\n        \"min\": 1.0,\n        \"max\": 225000.0,\n        \"num_unique_values\": 5,\n        \"samples\": [\n          2.0\n        ],\n        \"semantic_type\": \"\",\n        \"description\": \"\"\n      }\n    },\n    {\n      \"column\": \"50%\",\n      \"properties\": {\n        \"dtype\": \"number\",\n        \"std\": 116418.73810314118,\n        \"min\": 2.0,\n        \"max\": 349900.0,\n        \"num_unique_values\": 6,\n        \"samples\": [\n          5.0\n        ],\n        \"semantic_type\": \"\",\n        \"description\": \"\"\n      }\n    },\n    {\n      \"column\": \"75%\",\n      \"properties\": {\n        \"dtype\": \"number\",\n        \"std\": 191430.70673861192,\n        \"min\": 2.0,\n        \"max\": 575000.0,\n        \"num_unique_values\": 7,\n        \"samples\": [\n          5.0\n        ],\n        \"semantic_type\": \"\",\n        \"description\": \"\"\n      }\n    },\n    {\n      \"column\": \"max\",\n      \"properties\": {\n        \"dtype\": \"number\",\n        \"std\": 7775091.9719912475,\n        \"min\": 4.0,\n        \"max\": 23500000.0,\n        \"num_unique_values\": 9,\n        \"samples\": [\n          23500000.0\n        ],\n        \"semantic_type\": \"\",\n        \"description\": \"\"\n      }\n    }\n  ]\n}"
            }
          },
          "metadata": {},
          "execution_count": 11
        }
      ]
    },
    {
      "cell_type": "code",
      "source": [
        "data.isnull().sum()"
      ],
      "metadata": {
        "colab": {
          "base_uri": "https://localhost:8080/",
          "height": 366
        },
        "id": "q0Bu69djNZsp",
        "outputId": "560c3baf-2b39-4555-8c83-81b8abc2b28f"
      },
      "execution_count": null,
      "outputs": [
        {
          "output_type": "execute_result",
          "data": {
            "text/plain": [
              "type         0\n",
              "beds         0\n",
              "baths        0\n",
              "garage       0\n",
              "lot_sqft     0\n",
              "sqft         0\n",
              "stories      0\n",
              "listPrice    0\n",
              "age_range    0\n",
              "dtype: int64"
            ],
            "text/html": [
              "<div>\n",
              "<style scoped>\n",
              "    .dataframe tbody tr th:only-of-type {\n",
              "        vertical-align: middle;\n",
              "    }\n",
              "\n",
              "    .dataframe tbody tr th {\n",
              "        vertical-align: top;\n",
              "    }\n",
              "\n",
              "    .dataframe thead th {\n",
              "        text-align: right;\n",
              "    }\n",
              "</style>\n",
              "<table border=\"1\" class=\"dataframe\">\n",
              "  <thead>\n",
              "    <tr style=\"text-align: right;\">\n",
              "      <th></th>\n",
              "      <th>0</th>\n",
              "    </tr>\n",
              "  </thead>\n",
              "  <tbody>\n",
              "    <tr>\n",
              "      <th>type</th>\n",
              "      <td>0</td>\n",
              "    </tr>\n",
              "    <tr>\n",
              "      <th>beds</th>\n",
              "      <td>0</td>\n",
              "    </tr>\n",
              "    <tr>\n",
              "      <th>baths</th>\n",
              "      <td>0</td>\n",
              "    </tr>\n",
              "    <tr>\n",
              "      <th>garage</th>\n",
              "      <td>0</td>\n",
              "    </tr>\n",
              "    <tr>\n",
              "      <th>lot_sqft</th>\n",
              "      <td>0</td>\n",
              "    </tr>\n",
              "    <tr>\n",
              "      <th>sqft</th>\n",
              "      <td>0</td>\n",
              "    </tr>\n",
              "    <tr>\n",
              "      <th>stories</th>\n",
              "      <td>0</td>\n",
              "    </tr>\n",
              "    <tr>\n",
              "      <th>listPrice</th>\n",
              "      <td>0</td>\n",
              "    </tr>\n",
              "    <tr>\n",
              "      <th>age_range</th>\n",
              "      <td>0</td>\n",
              "    </tr>\n",
              "  </tbody>\n",
              "</table>\n",
              "</div><br><label><b>dtype:</b> int64</label>"
            ]
          },
          "metadata": {},
          "execution_count": 12
        }
      ]
    },
    {
      "cell_type": "markdown",
      "source": [
        "##### Visualizing the data"
      ],
      "metadata": {
        "id": "EsRH7cMjNf_x"
      }
    },
    {
      "cell_type": "code",
      "source": [
        "\n",
        "df_copy = data.copy()\n",
        "\n",
        "plt.figure(figsize = (15, 8))\n",
        "df_copy.boxplot()"
      ],
      "metadata": {
        "colab": {
          "base_uri": "https://localhost:8080/",
          "height": 495
        },
        "id": "POYGF0e9uAKa",
        "outputId": "16f575e1-4f00-4cb8-e443-0d63feeac746"
      },
      "execution_count": null,
      "outputs": [
        {
          "output_type": "execute_result",
          "data": {
            "text/plain": [
              "<Axes: >"
            ]
          },
          "metadata": {},
          "execution_count": 13
        },
        {
          "output_type": "display_data",
          "data": {
            "text/plain": [
              "<Figure size 1500x800 with 1 Axes>"
            ],
            "image/png": "[encoded data removed]"
          },
          "metadata": {}
        }
      ]
    },
    {
      "cell_type": "code",
      "source": [
        "corr_matrix = data.corr()  # Calculate correlation matrix\n",
        "\n",
        "# Set the figure size\n",
        "plt.figure(figsize=(15, 8))\n",
        "\n",
        "# Create a heatmap from the correlation matrix with annotations and a color map\n",
        "sns.heatmap(corr_matrix, annot=True, cmap='coolwarm')\n",
        "\n",
        "# Display the heatmap\n",
        "plt.show()"
      ],
      "metadata": {
        "colab": {
          "base_uri": "https://localhost:8080/",
          "height": 515
        },
        "id": "blnqd2sENepx",
        "outputId": "57bf4db1-8893-4b24-8822-db511364eb0a"
      },
      "execution_count": null,
      "outputs": [
        {
          "output_type": "display_data",
          "data": {
            "text/plain": [
              "<Figure size 1500x800 with 2 Axes>"
            ],
            "image/png": "[encoded data removed]"
          },
          "metadata": {}
        }
      ]
    },
    {
      "cell_type": "markdown",
      "source": [
        "###### Explanation of Correlation\n",
        "\n",
        "This is a correlation matrix for a set of variables in a DataFrame. The values represent the correlation coefficients between pairs of variables, indicating the strength and direction of their linear relationship. The values range from -1 to 1, where:\n",
        "\n",
        "- **1** means a perfect positive correlation (as one variable increases, the other also increases).\n",
        "- **-1** means a perfect negative correlation (as one variable increases, the other decreases).\n",
        "- **0** means no linear correlation between the variables.\n",
        "\n",
        "Let's break down the key relationships in this matrix:\n",
        "\n",
        "### 1. **`beds` and `baths` (0.441)**:\n",
        "   - A moderate positive correlation. This suggests that as the number of beds in a property increases, the number of bathrooms tends to increase as well, though not perfectly.\n",
        "\n",
        "### 2. **`beds` and `garage` (0.019)**:\n",
        "   - A very weak positive correlation, close to 0. This suggests there's almost no linear relationship between the number of beds and the presence or size of a garage.\n",
        "\n",
        "### 3. **`sqft` and `baths` (0.763)**:\n",
        "   - A strong positive correlation. Larger properties (by square footage) tend to have more bathrooms, which makes sense in terms of typical property design.\n",
        "\n",
        "### 4. **`listPrice` and `sqft` (0.777)**:\n",
        "   - A strong positive correlation. Larger properties are priced higher, which is expected, as square footage directly impacts property value.\n",
        "\n",
        "### 5. **`age` and `listPrice` (-0.109)**:\n",
        "   - A weak negative correlation. Older properties tend to have slightly lower prices, although the correlation is weak, suggesting other factors (such as location or condition) also play significant roles in pricing.\n",
        "\n",
        "### 6. **`stories` and `sqft` (-0.0297)**:\n",
        "   - A very weak negative correlation. The number of stories in a property is almost independent of its square footage, indicating that properties with more stories may or may not have more square footage.\n",
        "\n",
        "### 7. **`lot_sqft` and `sqft` (-0.000286)**:\n",
        "   - A very weak negative correlation. The lot size and the property's actual square footage are almost unrelated in this case, suggesting that properties with larger lots do not necessarily have larger structures.\n",
        "\n",
        "### 8. **`age` and `stories` (-0.237)**:\n",
        "   - A moderate negative correlation. Older properties tend to have fewer stories, possibly because multi-story designs became more common in newer developments.\n",
        "\n",
        "### 9. **`garage` and `stories` (0.105)**:\n",
        "   - A weak positive correlation. There’s a small tendency for properties with more stories to also have a garage, though it's not a strong relationship.\n",
        "\n",
        "### 10. **`baths` and `age` (0.076)**:\n",
        "   - A weak positive correlation. Older properties tend to have slightly fewer bathrooms, but this relationship is weak and not significant.\n",
        "\n",
        "### Summary of Key Points:\n",
        "- **Strong correlations**: Square footage (`sqft`) is strongly correlated with both bathrooms (`baths`) and list price (`listPrice`).\n",
        "- **Moderate correlations**: Beds (`beds`) and bathrooms (`baths`) are moderately correlated. Similarly, age (`age`) and stories (`stories`) have a moderate negative correlation.\n",
        "- **Weak correlations**: There are several weak or near-zero correlations, such as between garage and number of beds, or between lot size (`lot_sqft`) and square footage.\n",
        "\n",
        "In essence, this matrix shows how various features (e.g., number of bedrooms, bathrooms, square footage, and price) relate to one another. Strong positive correlations are expected between square footage and price, while weak or insignificant correlations are found in areas like garage size and age of property."
      ],
      "metadata": {
        "id": "hcSBngwzN2OY"
      }
    },
    {
      "cell_type": "markdown",
      "source": [
        "##### Train - Test Split"
      ],
      "metadata": {
        "id": "d9obfajdUEcd"
      }
    },
    {
      "cell_type": "code",
      "source": [
        "from sklearn.model_selection import train_test_split\n",
        "X = data.drop(['listPrice'], axis = 1)\n",
        "y = data['listPrice']\n",
        "\n",
        "X_train, X_test, y_train, y_test = train_test_split(X, y, test_size = 0.15, random_state = 42)"
      ],
      "metadata": {
        "id": "bw_k1TnG4gnM"
      },
      "execution_count": null,
      "outputs": []
    },
    {
      "cell_type": "markdown",
      "source": [
        "##### Scaling"
      ],
      "metadata": {
        "id": "dlS6L6pPAyXb"
      }
    },
    {
      "cell_type": "markdown",
      "source": [
        "###### Robust Scaling"
      ],
      "metadata": {
        "id": "N6VtTdozY2MB"
      }
    },
    {
      "cell_type": "code",
      "source": [
        "# from sklearn.preprocessing import RobustScaler\n",
        "# scaler = RobustScaler()\n",
        "# X_train = scaler.fit_transform(X_train)\n",
        "# X_test = scaler.transform(X_test)"
      ],
      "metadata": {
        "id": "fkJYgfSYszXd"
      },
      "execution_count": null,
      "outputs": []
    },
    {
      "cell_type": "markdown",
      "source": [
        "###### MinMax Scaling"
      ],
      "metadata": {
        "id": "LUAJeYYOY9Jy"
      }
    },
    {
      "cell_type": "code",
      "source": [
        "# from sklearn.preprocessing import MinMaxScaler\n",
        "# scaler = MinMaxScaler()\n",
        "# X_train = scaler.fit_transform(X_train)\n",
        "# X_test = scaler.transform(X_test)"
      ],
      "metadata": {
        "id": "SJaFBBbrAyBw"
      },
      "execution_count": null,
      "outputs": []
    },
    {
      "cell_type": "markdown",
      "source": [
        "###### Standard Scaling"
      ],
      "metadata": {
        "id": "nmWZ7uewZ3_O"
      }
    },
    {
      "cell_type": "code",
      "source": [
        "# from sklearn.preprocessing import StandardScaler\n",
        "# scaler = StandardScaler()\n",
        "# X_train = scaler.fit_transform(X_train)\n",
        "# X_test = scaler.transform(X_test)"
      ],
      "metadata": {
        "id": "8k50s1JwAxVa"
      },
      "execution_count": null,
      "outputs": []
    },
    {
      "cell_type": "markdown",
      "source": [
        "#### Model Building"
      ],
      "metadata": {
        "id": "j0BdmzQEQdQr"
      }
    },
    {
      "cell_type": "markdown",
      "source": [
        "##### Multi Layered Perceptron"
      ],
      "metadata": {
        "id": "CgL9xEJ8Z4y2"
      }
    },
    {
      "cell_type": "code",
      "source": [
        "from sklearn.neural_network import MLPRegressor\n",
        "from sklearn.metrics import mean_absolute_error, mean_squared_error, r2_score\n",
        "\n",
        "# Creating (MLP) Regressor\n",
        "model = MLPRegressor(hidden_layer_sizes=(64, 32), max_iter=1000, random_state=42)\n",
        "# Training the model\n",
        "model.fit(X_train, y_train)\n",
        "\n",
        "print(\"Train set prediction: -\")\n",
        "\n",
        "# Making prediction\n",
        "y_pred = model.predict(X_train)\n",
        "\n",
        "mse = mean_squared_error(y_train, y_pred)\n",
        "mae = mean_absolute_error(y_train, y_pred)\n",
        "r2 = r2_score(y_train, y_pred)\n",
        "\n",
        "print(f\"Mean Squared Error: {mse}\")\n",
        "print(f\"Mean Absolute Error: {mae}\")\n",
        "print(f\"R-squared: {r2}\")\n",
        "print()\n",
        "\n",
        "print(\"Test set prediction: -\")\n",
        "\n",
        "# Making prediction\n",
        "y_pred = model.predict(X_test)\n",
        "\n",
        "mse = mean_squared_error(y_test, y_pred)\n",
        "mae = mean_absolute_error(y_test, y_pred)\n",
        "r2 = r2_score(y_test, y_pred)\n",
        "\n",
        "print(f\"Mean Squared Error: {mse}\")\n",
        "print(f\"Mean Absolute Error: {mae}\")\n",
        "print(f\"R-squared: {r2}\")"
      ],
      "metadata": {
        "colab": {
          "base_uri": "https://localhost:8080/"
        },
        "id": "Qh6dp2etaBW0",
        "outputId": "5573e912-88c0-42c1-92cb-892cda980c83"
      },
      "execution_count": null,
      "outputs": [
        {
          "output_type": "stream",
          "name": "stdout",
          "text": [
            "Train set prediction: -\n",
            "Mean Squared Error: 461211181548.64813\n",
            "Mean Absolute Error: 301787.8937371604\n",
            "R-squared: 0.6569309144613396\n",
            "\n",
            "Test set prediction: -\n",
            "Mean Squared Error: 647151323409.6898\n",
            "Mean Absolute Error: 325418.1052423491\n",
            "R-squared: 0.6756836562229772\n"
          ]
        }
      ]
    },
    {
      "cell_type": "markdown",
      "source": [
        "##### Linear Regression"
      ],
      "metadata": {
        "id": "9weaqHs3UNKH"
      }
    },
    {
      "cell_type": "code",
      "source": [
        "# general LinearRegression\n",
        "from sklearn.linear_model import LinearRegression\n",
        "from sklearn.metrics import mean_absolute_error, mean_squared_error, r2_score\n",
        "model = LinearRegression()\n",
        "model.fit(X_train, y_train)\n",
        "\n",
        "print(\"Train set prediction: -\")\n",
        "\n",
        "# Making prediction\n",
        "y_pred = model.predict(X_train)\n",
        "\n",
        "mse = mean_squared_error(y_train, y_pred)\n",
        "mae = mean_absolute_error(y_train, y_pred)\n",
        "r2 = r2_score(y_train, y_pred)\n",
        "\n",
        "print(f\"Mean Squared Error: {mse}\")\n",
        "print(f\"Mean Absolute Error: {mae}\")\n",
        "print(f\"R-squared: {r2}\")\n",
        "print()\n",
        "\n",
        "print(\"Test set prediction: -\")\n",
        "\n",
        "# Making prediction\n",
        "y_pred = model.predict(X_test)\n",
        "\n",
        "mse = mean_squared_error(y_test, y_pred)\n",
        "mae = mean_absolute_error(y_test, y_pred)\n",
        "r2 = r2_score(y_test, y_pred)\n",
        "\n",
        "print(f\"Mean Squared Error: {mse}\")\n",
        "print(f\"Mean Absolute Error: {mae}\")\n",
        "print(f\"R-squared: {r2}\")"
      ],
      "metadata": {
        "id": "Gvv133Ta1cmE",
        "colab": {
          "base_uri": "https://localhost:8080/"
        },
        "outputId": "d9feb1ac-566e-421c-f4c4-8d7060b22917"
      },
      "execution_count": null,
      "outputs": [
        {
          "output_type": "stream",
          "name": "stdout",
          "text": [
            "Train set prediction: -\n",
            "Mean Squared Error: 476462459372.4514\n",
            "Mean Absolute Error: 352332.98631663737\n",
            "R-squared: 0.6455863457569566\n",
            "\n",
            "Test set prediction: -\n",
            "Mean Squared Error: 797515500501.0056\n",
            "Mean Absolute Error: 387052.202584698\n",
            "R-squared: 0.6003294718378447\n"
          ]
        }
      ]
    },
    {
      "cell_type": "code",
      "source": [
        "# # hyperparameter tuning with RandomizedSearchCV\n",
        "# from sklearn.linear_model import LinearRegression\n",
        "# from sklearn.metrics import mean_absolute_error, mean_squared_error, r2_score\n",
        "# from sklearn.model_selection import RandomizedSearchCV\n",
        "# model = LinearRegression()\n",
        "\n",
        "# # model.get_params()\n",
        "\n",
        "# param_space = {'copy_X': [True,False],\n",
        "#                'fit_intercept': [True,False],\n",
        "#                'n_jobs': [1,5,10,15,None],\n",
        "#                'positive': [True,False]}\n",
        "\n",
        "# random_search = RandomizedSearchCV(model, param_space, n_iter=100, cv=5)\n",
        "# random_search.fit(X_train, y_train)\n",
        "\n",
        "# # Parameter which gives the best results\n",
        "# print(f\"Best Hyperparameters: {random_search.best_params_}\")\n",
        "\n",
        "# # Accuracy of the model after using best parameters\n",
        "# print(f\"Best Score: {random_search.best_score_}\")"
      ],
      "metadata": {
        "id": "Se-EuZew1ccB"
      },
      "execution_count": null,
      "outputs": []
    },
    {
      "cell_type": "markdown",
      "source": [
        "##### Ridge Regression"
      ],
      "metadata": {
        "id": "wud-6cQQ79fc"
      }
    },
    {
      "cell_type": "code",
      "source": [
        "from sklearn.linear_model import Ridge\n",
        "from sklearn.metrics import mean_absolute_error, mean_squared_error, r2_score\n",
        "model = Ridge(alpha=1.0, random_state=42)\n",
        "model.fit(X_train, y_train)\n",
        "\n",
        "print(\"Train set prediction: -\")\n",
        "\n",
        "# Making prediction\n",
        "y_pred = model.predict(X_train)\n",
        "\n",
        "mse = mean_squared_error(y_train, y_pred)\n",
        "mae = mean_absolute_error(y_train, y_pred)\n",
        "r2 = r2_score(y_train, y_pred)\n",
        "\n",
        "print(f\"Mean Squared Error: {mse}\")\n",
        "print(f\"Mean Absolute Error: {mae}\")\n",
        "print(f\"R-squared: {r2}\")\n",
        "print()\n",
        "\n",
        "print(\"Test set prediction: -\")\n",
        "\n",
        "# Making prediction\n",
        "y_pred = model.predict(X_test)\n",
        "\n",
        "mse = mean_squared_error(y_test, y_pred)\n",
        "mae = mean_absolute_error(y_test, y_pred)\n",
        "r2 = r2_score(y_test, y_pred)\n",
        "\n",
        "print(f\"Mean Squared Error: {mse}\")\n",
        "print(f\"Mean Absolute Error: {mae}\")\n",
        "print(f\"R-squared: {r2}\")"
      ],
      "metadata": {
        "colab": {
          "base_uri": "https://localhost:8080/"
        },
        "id": "R5wXZIFx4YiB",
        "outputId": "7e1f12d9-66a2-46f8-b5b4-09db8d2bd9b6"
      },
      "execution_count": null,
      "outputs": [
        {
          "output_type": "stream",
          "name": "stdout",
          "text": [
            "Train set prediction: -\n",
            "Mean Squared Error: 476462480708.697\n",
            "Mean Absolute Error: 352322.0040809062\n",
            "R-squared: 0.6455863298861222\n",
            "\n",
            "Test set prediction: -\n",
            "Mean Squared Error: 797519726951.0482\n",
            "Mean Absolute Error: 387037.24896120484\n",
            "R-squared: 0.6003273537755378\n"
          ]
        }
      ]
    },
    {
      "cell_type": "code",
      "source": [
        "# from sklearn.linear_model import Ridge\n",
        "# from sklearn.metrics import mean_absolute_error, mean_squared_error, r2_score\n",
        "# from sklearn.model_selection import RandomizedSearchCV\n",
        "# model = Ridge()\n",
        "# # model.get_params()\n",
        "\n",
        "# param_space = {'alpha': [1e-15,1e-10,1e-8,1e-3,1e-2,1,5,10,20,30,35,40,45,50,55,100],\n",
        "#                'copy_X': [True, False],\n",
        "#                'fit_intercept': [True, False],\n",
        "#                'max_iter': [None],\n",
        "#                'positive': [True, False],\n",
        "#                'random_state': [42,0,1,2,26],\n",
        "#                'solver': ['auto'],\n",
        "#                'tol': [0.0001]}\n",
        "\n",
        "# random_search = RandomizedSearchCV(model, param_space, n_iter=100, cv=5)\n",
        "# random_search.fit(X_train, y_train)\n",
        "\n",
        "# # Parameter which gives the best results\n",
        "# print(f\"Best Hyperparameters: {random_search.best_params_}\")\n",
        "\n",
        "# # Accuracy of the model after using best parameters\n",
        "# print(f\"Best Score: {random_search.best_score_}\")"
      ],
      "metadata": {
        "id": "aeiGlnbjUhz3"
      },
      "execution_count": null,
      "outputs": []
    },
    {
      "cell_type": "markdown",
      "source": [
        "##### Lasso Regression"
      ],
      "metadata": {
        "id": "mSoLCj0h8hyu"
      }
    },
    {
      "cell_type": "code",
      "source": [
        "from sklearn.linear_model import Lasso\n",
        "from sklearn.metrics import mean_absolute_error, mean_squared_error, r2_score\n",
        "model = Lasso(alpha=1.0, random_state=26)\n",
        "model.fit(X_train, y_train)\n",
        "\n",
        "print(\"Train set prediction: -\")\n",
        "\n",
        "# Making prediction\n",
        "y_pred = model.predict(X_train)\n",
        "\n",
        "mse = mean_squared_error(y_train, y_pred)\n",
        "mae = mean_absolute_error(y_train, y_pred)\n",
        "r2 = r2_score(y_train, y_pred)\n",
        "\n",
        "print(f\"Mean Squared Error: {mse}\")\n",
        "print(f\"Mean Absolute Error: {mae}\")\n",
        "print(f\"R-squared: {r2}\")\n",
        "print()\n",
        "\n",
        "print(\"Test set prediction: -\")\n",
        "\n",
        "# Making prediction\n",
        "y_pred = model.predict(X_test)\n",
        "\n",
        "mse = mean_squared_error(y_test, y_pred)\n",
        "mae = mean_absolute_error(y_test, y_pred)\n",
        "r2 = r2_score(y_test, y_pred)\n",
        "\n",
        "print(f\"Mean Squared Error: {mse}\")\n",
        "print(f\"Mean Absolute Error: {mae}\")\n",
        "print(f\"R-squared: {r2}\")"
      ],
      "metadata": {
        "colab": {
          "base_uri": "https://localhost:8080/"
        },
        "id": "tY8yYyk-4dW5",
        "outputId": "936841c7-7370-4998-8d15-6ae6338bf86d"
      },
      "execution_count": null,
      "outputs": [
        {
          "output_type": "stream",
          "name": "stdout",
          "text": [
            "Train set prediction: -\n",
            "Mean Squared Error: 476462459376.3487\n",
            "Mean Absolute Error: 352332.75274316483\n",
            "R-squared: 0.6455863457540576\n",
            "\n",
            "Test set prediction: -\n",
            "Mean Squared Error: 797515696652.4094\n",
            "Mean Absolute Error: 387051.96577556623\n",
            "R-squared: 0.6003293735376423\n"
          ]
        }
      ]
    },
    {
      "cell_type": "code",
      "source": [
        "# from sklearn.linear_model import Lasso\n",
        "# from sklearn.metrics import mean_absolute_error, mean_squared_error, r2_score\n",
        "# from sklearn.model_selection import RandomizedSearchCV\n",
        "# model = Lasso()\n",
        "\n",
        "# # model.get_params()\n",
        "\n",
        "# param_space = {'alpha': [1e-15,1e-10,1e-8,1e-3,1e-2,1,5,10,20,30,35,40,45,50,55,100],\n",
        "#                'copy_X': [True, False],\n",
        "#                'fit_intercept': [True, False],\n",
        "#                'max_iter': [1000],\n",
        "#                'positive': [True, False],\n",
        "#                'random_state': [0,42,1],\n",
        "#               #  'solver': ['auto', 'cyclic'],\n",
        "#                'tol': [0.0001],\n",
        "#                'warm_start': [True, False]}\n",
        "\n",
        "# random_search = RandomizedSearchCV(model, param_space, cv=5)\n",
        "# random_search.fit(X_train, y_train)\n",
        "\n",
        "# # Parameter which gives the best results\n",
        "# print(f\"Best Hyperparameters: {random_search.best_params_}\")\n",
        "\n",
        "# # Accuracy of the model after using best parameters\n",
        "# print(f\"Best Score: {random_search.best_score_}\")"
      ],
      "metadata": {
        "id": "A9hIz1_zWR3h"
      },
      "execution_count": null,
      "outputs": []
    },
    {
      "cell_type": "markdown",
      "source": [
        "##### Support Vector Regression"
      ],
      "metadata": {
        "id": "9ZXrxjzq9Ci7"
      }
    },
    {
      "cell_type": "code",
      "source": [
        "from sklearn.svm import SVR\n",
        "from sklearn.metrics import mean_absolute_error, mean_squared_error, r2_score\n",
        "model = SVR(kernel='linear', C=1.0, epsilon=0.2)\n",
        "model.fit(X_train, y_train)\n",
        "\n",
        "print(\"Train set prediction: -\")\n",
        "\n",
        "# Making prediction\n",
        "y_pred = model.predict(X_train)\n",
        "\n",
        "mse = mean_squared_error(y_train, y_pred)\n",
        "mae = mean_absolute_error(y_train, y_pred)\n",
        "r2 = r2_score(y_train, y_pred)\n",
        "\n",
        "print(f\"Mean Squared Error: {mse}\")\n",
        "print(f\"Mean Absolute Error: {mae}\")\n",
        "print(f\"R-squared: {r2}\")\n",
        "print()\n",
        "\n",
        "print(\"Test set prediction: -\")\n",
        "\n",
        "# Making prediction\n",
        "y_pred = model.predict(X_test)\n",
        "\n",
        "mse = mean_squared_error(y_test, y_pred)\n",
        "mae = mean_absolute_error(y_test, y_pred)\n",
        "r2 = r2_score(y_test, y_pred)\n",
        "\n",
        "print(f\"Mean Squared Error: {mse}\")\n",
        "print(f\"Mean Absolute Error: {mae}\")\n",
        "print(f\"R-squared: {r2}\")"
      ],
      "metadata": {
        "colab": {
          "base_uri": "https://localhost:8080/"
        },
        "id": "LMaPLbua9Z-m",
        "outputId": "37b3f449-2dae-429c-da66-7295db118fbd"
      },
      "execution_count": null,
      "outputs": [
        {
          "output_type": "stream",
          "name": "stdout",
          "text": [
            "Train set prediction: -\n",
            "Mean Squared Error: 722728940370.2452\n",
            "Mean Absolute Error: 299426.6286578277\n",
            "R-squared: 0.46240254663255154\n",
            "\n",
            "Test set prediction: -\n",
            "Mean Squared Error: 1255257193447.8655\n",
            "Mean Absolute Error: 329645.39009640407\n",
            "R-squared: 0.3709347277018592\n"
          ]
        }
      ]
    },
    {
      "cell_type": "code",
      "source": [
        "# from sklearn.svm import SVR\n",
        "# from sklearn.metrics import mean_absolute_error, mean_squared_error, r2_score\n",
        "# from sklearn.model_selection import RandomizedSearchCV\n",
        "# model = SVR()\n",
        "\n",
        "# # model.get_params()\n",
        "\n",
        "# param_space = {\n",
        "#     'C': [0.1, 1.0, 10.0],  # Regularization parameter\n",
        "#     'kernel': ['linear', 'poly', 'rbf', 'sigmoid'],  # Kernel types to consider\n",
        "#     'degree': [2, 3, 4],  # Degree of the polynomial kernel function (used with 'poly' kernel)\n",
        "#     'gamma': ['scale', 'auto', 0.01, 0.1, 1.0],  # Kernel coefficient\n",
        "#     'coef0': [0.0, 0.5, 1.0],  # Independent term in kernel function (for 'poly' and 'sigmoid')\n",
        "#     'epsilon': [0.01, 0.1, 0.2],  # Epsilon in the epsilon-SVR model\n",
        "#     'shrinking': [True, False],  # Whether to use the shrinking heuristic\n",
        "#     'tol': [1e-4, 1e-3, 1e-2],  # Tolerance for stopping criterion\n",
        "#     # 'max_iter': [-1]  # No limit on iterations\n",
        "# }\n",
        "\n",
        "\n",
        "# random_search = RandomizedSearchCV(model, param_space, cv=3)\n",
        "# random_search.fit(X_train, y_train)\n",
        "\n",
        "# # Parameter which gives the best results\n",
        "# print(f\"Best Hyperparameters: {random_search.best_params_}\")\n",
        "\n",
        "# # Accuracy of the model after using best parameters\n",
        "# print(f\"Best Score: {random_search.best_score_}\")"
      ],
      "metadata": {
        "id": "PYbaBQLWT2G4"
      },
      "execution_count": null,
      "outputs": []
    },
    {
      "cell_type": "markdown",
      "source": [
        "##### K-Nearest Neighbors(KNN)"
      ],
      "metadata": {
        "id": "DWIpBQhvWLIN"
      }
    },
    {
      "cell_type": "code",
      "source": [
        "from sklearn.neighbours import KNeighborsRegressor\n",
        "from sklearn.metrics import mean_squared_error, mean_absolute_error, r2_score\n",
        "model = KNeighborsRegressor(n_neighbors=5)\n",
        "model.fit(X_train, y_train)\n",
        "print(\"Train set prediction: -\")\n",
        "y_pred = model.predict(X_train)\n",
        "mse = mean_squared_error(y_train, y_pred)\n",
        "mae = mean_absolute_error(y_train, y_pred)\n",
        "r2 = r2_score(y_train, y_pred)\n",
        "print(f\"Mean Squared Error: {mse}\")\n",
        "print(f\"Mean Absolute Error: {mae}\")\n",
        "print(f\"R-squared: {r2}\")\n",
        "print()\n",
        "print(\"Test set prediction: -\")\n",
        "y_pred  = model.predict(X_test)\n",
        "mse = mean_squared_error(y_test, y_pred)\n",
        "mae = mean_absolute_error(y_test, y_pred)\n",
        "r2 = r2_score(y_test, y_pred)\n",
        "print(f\"Mean Squared Error: {mse}\")\n",
        "print(f\"Mean Absolute Error: {mae}\")\n",
        "print(f\"R-squared: {r2}\")"
      ],
      "metadata": {
        "id": "BqsT232I1s6v"
      },
      "execution_count": null,
      "outputs": []
    },
    {
      "cell_type": "code",
      "source": [
        "from sklearn.neighbors import KNeighborsRegressor\n",
        "from sklearn.metrics import mean_squared_error, mean_absolute_error, r2_score\n",
        "model = KNeighborsRegressor(n_neighbors=5)\n",
        "model.fit(X_train, y_train)\n",
        "\n",
        "print(\"Train set prediction: -\")\n",
        "\n",
        "# Making prediction\n",
        "y_pred = model.predict(X_train)\n",
        "\n",
        "mse = mean_squared_error(y_train, y_pred)\n",
        "mae = mean_absolute_error(y_train, y_pred)\n",
        "r2 = r2_score(y_train, y_pred)\n",
        "\n",
        "print(f\"Mean Squared Error: {mse}\")\n",
        "print(f\"Mean Absolute Error: {mae}\")\n",
        "print(f\"R-squared: {r2}\")\n",
        "print()\n",
        "\n",
        "print(\"Test set prediction: -\")\n",
        "\n",
        "# Making prediction\n",
        "y_pred = model.predict(X_test)\n",
        "\n",
        "mse = mean_squared_error(y_test, y_pred)\n",
        "mae = mean_absolute_error(y_test, y_pred)\n",
        "r2 = r2_score(y_test, y_pred)\n",
        "\n",
        "print(f\"Mean Squared Error: {mse}\")\n",
        "print(f\"Mean Absolute Error: {mae}\")\n",
        "print(f\"R-squared: {r2}\")"
      ],
      "metadata": {
        "id": "pLrclSWnWuRh",
        "colab": {
          "base_uri": "https://localhost:8080/"
        },
        "outputId": "d8e4c7f1-f83d-446f-b082-5573e4e94d82"
      },
      "execution_count": null,
      "outputs": [
        {
          "output_type": "stream",
          "name": "stdout",
          "text": [
            "Train set prediction: -\n",
            "Mean Squared Error: 405706948109.2601\n",
            "Mean Absolute Error: 235583.54075382807\n",
            "R-squared: 0.6982173952999804\n",
            "\n",
            "Test set prediction: -\n",
            "Mean Squared Error: 663988673582.0869\n",
            "Mean Absolute Error: 293729.21533333336\n",
            "R-squared: 0.6672457103372538\n"
          ]
        }
      ]
    },
    {
      "cell_type": "code",
      "source": [
        "# from sklearn.neighbors import KNeighborsRegressor\n",
        "# from sklearn.metrics import mean_squared_error, mean_absolute_error, r2_score\n",
        "# from sklearn.model_selection import RandomizedSearchCV\n",
        "# model = KNeighborsRegressor()\n",
        "\n",
        "# # model.get_params()\n",
        "\n",
        "# param_space = {\n",
        "#     'n_neighbors': [3, 5, 7, 10, 15],  # Try different numbers of neighbors\n",
        "#     'weights': ['uniform', 'distance'],  # Uniform or distance-based weighting\n",
        "#     'metric': ['euclidean', 'manhattan', 'minkowski'],  # Metrics to test\n",
        "#     'p': [1, 2],  # Power parameter for Minkowski metric\n",
        "#     'algorithm': ['auto', 'ball_tree', 'kd_tree', 'brute'],  # Algorithm choices\n",
        "#     'leaf_size': [10, 30, 50],  # Leaf size for tree-based algorithms\n",
        "# }\n",
        "\n",
        "\n",
        "# random_search = RandomizedSearchCV(model, param_space, cv=5)\n",
        "# random_search.fit(X_train, y_train)\n",
        "\n",
        "# # Parameter which gives the best results\n",
        "# print(f\"Best Hyperparameters: {random_search.best_params_}\")\n",
        "\n",
        "# # Accuracy of the model after using best parameters\n",
        "# print(f\"Best Score: {random_search.best_score_}\")"
      ],
      "metadata": {
        "id": "vweULx8wZzmr"
      },
      "execution_count": null,
      "outputs": []
    },
    {
      "cell_type": "code",
      "source": [],
      "metadata": {
        "id": "dPWNXsgoTylz"
      },
      "execution_count": null,
      "outputs": []
    },
    {
      "cell_type": "markdown",
      "source": [
        "##### Random Forest Regression"
      ],
      "metadata": {
        "id": "GlmxCwerAHzi"
      }
    },
    {
      "cell_type": "code",
      "source": [
        "from sklearn.ensemble import RandomForestRegressor\n",
        "from sklearn.metrics import mean_squared_error, mean_absolute_error, r2_score\n",
        "model = RandomForestRegressor(n_estimators=600,\n",
        "                                bootstrap=True,\n",
        "                                max_depth=15,\n",
        "                                max_features=None,\n",
        "                                min_samples_leaf=2,\n",
        "                                min_samples_split=2,\n",
        "                                random_state=0)\n",
        "\n",
        "model.fit(X_train, y_train)\n",
        "\n",
        "print(\"Train set prediction: -\")\n",
        "\n",
        "# Making prediction\n",
        "y_pred = model.predict(X_train)\n",
        "\n",
        "mse = mean_squared_error(y_train, y_pred)\n",
        "mae = mean_absolute_error(y_train, y_pred)\n",
        "r2 = r2_score(y_train, y_pred)\n",
        "\n",
        "print(f\"Mean Squared Error: {mse}\")\n",
        "print(f\"Mean Absolute Error: {mae}\")\n",
        "print(f\"R-squared: {r2}\")\n",
        "print()\n",
        "\n",
        "print(\"Test set prediction: -\")\n",
        "\n",
        "# Making prediction\n",
        "y_pred = model.predict(X_test)\n",
        "\n",
        "mse = mean_squared_error(y_test, y_pred)\n",
        "mae = mean_absolute_error(y_test, y_pred)\n",
        "r2 = r2_score(y_test, y_pred)\n",
        "\n",
        "print(f\"Mean Squared Error: {mse}\")\n",
        "print(f\"Mean Absolute Error: {mae}\")\n",
        "print(f\"R-squared: {r2}\")"
      ],
      "metadata": {
        "id": "wTM5IM5Nzl6R",
        "colab": {
          "base_uri": "https://localhost:8080/"
        },
        "outputId": "80874be9-cba0-476a-9847-60849efe4ce3"
      },
      "execution_count": null,
      "outputs": [
        {
          "output_type": "stream",
          "name": "stdout",
          "text": [
            "Train set prediction: -\n",
            "Mean Squared Error: 156819196538.24628\n",
            "Mean Absolute Error: 144714.21965159342\n",
            "R-squared: 0.8833510103318931\n",
            "\n",
            "Test set prediction: -\n",
            "Mean Squared Error: 421198499792.35455\n",
            "Mean Absolute Error: 244998.35709665914\n",
            "R-squared: 0.7889186771073855\n"
          ]
        }
      ]
    },
    {
      "cell_type": "markdown",
      "source": [
        "###### Feature Importance"
      ],
      "metadata": {
        "id": "rzQcsFcbdIW2"
      }
    },
    {
      "cell_type": "code",
      "source": [
        "for importance, name in sorted(zip(model.feature_importances_, X_train.columns), reverse=True):\n",
        "    print(name, importance)"
      ],
      "metadata": {
        "colab": {
          "base_uri": "https://localhost:8080/"
        },
        "id": "fW48nDmkdMGl",
        "outputId": "291d40f3-6588-470d-e59f-8dbb3fb99859"
      },
      "execution_count": null,
      "outputs": [
        {
          "output_type": "stream",
          "name": "stdout",
          "text": [
            "sqft 0.7437804713395362\n",
            "baths 0.11708015782073858\n",
            "lot_sqft 0.05026430819182093\n",
            "stories 0.02712209512666684\n",
            "age_range 0.02408883489964033\n",
            "beds 0.01863979584129895\n",
            "garage 0.010845872810804359\n",
            "type 0.008178463969493848\n"
          ]
        }
      ]
    },
    {
      "cell_type": "code",
      "source": [
        "# from sklearn.model_selection import cross_val_score\n",
        "\n",
        "# cv_scores = cross_val_score(model, X_train, y_train, cv=5, scoring='r2')\n",
        "# print(\"Cross-Validation R² Scores:\", cv_scores)\n",
        "# print(\"Mean CV R²:\", cv_scores.mean())\n"
      ],
      "metadata": {
        "id": "0O_Et1OlhkTi"
      },
      "execution_count": null,
      "outputs": []
    },
    {
      "cell_type": "code",
      "source": [
        "# from sklearn.ensemble import RandomForestRegressor\n",
        "# from sklearn.metrics import mean_squared_error, mean_absolute_error, r2_score\n",
        "# from sklearn.model_selection import RandomizedSearchCV\n",
        "# model = RandomForestRegressor()\n",
        "\n",
        "# # model.get_params()\n",
        "\n",
        "# param_space = {\n",
        "#     'n_estimators': [100, 200, 500],\n",
        "#     'max_depth': [10, 20, 30, None],\n",
        "#     'max_features': ['sqrt', 'log2', None],\n",
        "#     'min_samples_split': [2, 5, 10],\n",
        "#     'min_samples_leaf': [1, 2, 4],\n",
        "#     'bootstrap': [True, False],\n",
        "#     'random_state': [0,42,50,1,2,72,26,100,1998,1997,2001,1980,2025]\n",
        "# }\n",
        "\n",
        "# random_search = RandomizedSearchCV(model, param_space, cv=10, n_jobs=-1)\n",
        "# random_search.fit(X_train, y_train)\n",
        "\n",
        "# # Parameter which gives the best results\n",
        "# print(f\"Best Hyperparameters: {random_search.best_params_}\")\n",
        "\n",
        "# # Accuracy of the model after using best parameters\n",
        "# print(f\"Best Score: {random_search.best_score_}\")"
      ],
      "metadata": {
        "id": "r2NeCAxyzykH"
      },
      "execution_count": null,
      "outputs": []
    },
    {
      "cell_type": "markdown",
      "source": [
        "##### Decision Tree Regression"
      ],
      "metadata": {
        "id": "-crP9w1PON9f"
      }
    },
    {
      "cell_type": "code",
      "source": [
        "from sklearn.tree import DecisionTreeRegressor\n",
        "from sklearn.metrics import mean_squared_error, mean_absolute_error, r2_score\n",
        "model = DecisionTreeRegressor(criterion='squared_error',\n",
        "                              splitter='best',\n",
        "                              max_depth=25,\n",
        "                              max_features=None,\n",
        "                              min_samples_leaf=2,\n",
        "                              min_samples_split=2,\n",
        "                              min_impurity_decrease=0.02,\n",
        "                              random_state=8630)\n",
        "\n",
        "model.fit(X_train, y_train)\n",
        "\n",
        "print(\"Train set prediction: -\")\n",
        "\n",
        "# Making prediction\n",
        "y_pred = model.predict(X_train)\n",
        "\n",
        "mse = mean_squared_error(y_train, y_pred)\n",
        "mae = mean_absolute_error(y_train, y_pred)\n",
        "r2 = r2_score(y_train, y_pred)\n",
        "\n",
        "print(f\"Mean Squared Error: {mse}\")\n",
        "print(f\"Mean Absolute Error: {mae}\")\n",
        "print(f\"R-squared: {r2}\")\n",
        "print()\n",
        "\n",
        "print(\"Test set prediction: -\")\n",
        "\n",
        "# Making prediction\n",
        "y_pred = model.predict(X_test)\n",
        "\n",
        "mse = mean_squared_error(y_test, y_pred)\n",
        "mae = mean_absolute_error(y_test, y_pred)\n",
        "r2 = r2_score(y_test, y_pred)\n",
        "\n",
        "print(f\"Mean Squared Error: {mse}\")\n",
        "print(f\"Mean Absolute Error: {mae}\")\n",
        "print(f\"R-squared: {r2}\") #0.8242290105848965"
      ],
      "metadata": {
        "colab": {
          "base_uri": "https://localhost:8080/"
        },
        "id": "9sdJmYDtCatx",
        "outputId": "e9eb4e64-c12e-4979-d87b-5eb859b30ff1"
      },
      "execution_count": null,
      "outputs": [
        {
          "output_type": "stream",
          "name": "stdout",
          "text": [
            "Train set prediction: -\n",
            "Mean Squared Error: 126103789193.75394\n",
            "Mean Absolute Error: 118797.13987744684\n",
            "R-squared: 0.9061984761592388\n",
            "\n",
            "Test set prediction: -\n",
            "Mean Squared Error: 350739118138.7572\n",
            "Mean Absolute Error: 251537.22865079364\n",
            "R-squared: 0.8242290105890313\n"
          ]
        }
      ]
    },
    {
      "cell_type": "markdown",
      "source": [
        "###### Feature Importance"
      ],
      "metadata": {
        "id": "MPpniNFRdAWP"
      }
    },
    {
      "cell_type": "code",
      "source": [
        "for importance, name in sorted(zip(model.feature_importances_, X_train.columns), reverse=True):\n",
        "    print(name, importance)"
      ],
      "metadata": {
        "colab": {
          "base_uri": "https://localhost:8080/"
        },
        "id": "pAszjR5OchZQ",
        "outputId": "67afaf9e-0c1f-47b3-8a6d-62756883cfc6"
      },
      "execution_count": null,
      "outputs": [
        {
          "output_type": "stream",
          "name": "stdout",
          "text": [
            "sqft 0.7683612597448756\n",
            "baths 0.09410671673679696\n",
            "lot_sqft 0.03896588961248268\n",
            "garage 0.03198833227450872\n",
            "age_range 0.026161950566824063\n",
            "type 0.017935371833616983\n",
            "stories 0.015118973493662074\n",
            "beds 0.00736150573723298\n"
          ]
        }
      ]
    },
    {
      "cell_type": "code",
      "source": [
        "# from sklearn.tree import DecisionTreeRegressor\n",
        "# from sklearn.metrics import mean_squared_error, mean_absolute_error, r2_score\n",
        "# from sklearn.model_selection import RandomizedSearchCV\n",
        "# model = DecisionTreeRegressor()\n",
        "\n",
        "# # model.get_params()\n",
        "\n",
        "# param_space = {\n",
        "#     'criterion':['squared_error', 'friedman_mse', 'absolute_error', 'poisson'],\n",
        "#     'splitter':['best', 'random'],\n",
        "#     'max_depth': [10, 20, 25, 30, None],\n",
        "#     'max_features': ['sqrt', 'log2', None],\n",
        "#     'min_samples_split': [2, 5, 10],\n",
        "#     'min_samples_leaf': [1, 2, 4],\n",
        "#     'min_impurity_decrease':[0.02,0.04],\n",
        "#     'random_state':[8630,42,1100]\n",
        "# }\n",
        "\n",
        "# random_search = RandomizedSearchCV(model, param_space, cv=10, n_jobs=-1)\n",
        "# random_search.fit(X_train, y_train)\n",
        "\n",
        "# # Parameter which gives the best results\n",
        "# print(f\"Best Hyperparameters: {random_search.best_params_}\")\n",
        "\n",
        "# # Accuracy of the model after using best parameters\n",
        "# print(f\"Best Score: {random_search.best_score_}\")"
      ],
      "metadata": {
        "id": "PD-ZXzrwTFi-"
      },
      "execution_count": null,
      "outputs": []
    },
    {
      "cell_type": "markdown",
      "source": [
        "##### XGBoost"
      ],
      "metadata": {
        "id": "LTfXNLFZXFie"
      }
    },
    {
      "cell_type": "code",
      "source": [
        "from xgboost import XGBRegressor\n",
        "from sklearn.metrics import mean_squared_error, mean_absolute_error, r2_score\n",
        "model = XGBRegressor(max_depth=8, n_estimators=250, random_state=8030, learning_rate=0.08, n_jobs=5)\n",
        "model.fit(X_train, y_train)\n",
        "\n",
        "print(\"Train set prediction: -\")\n",
        "\n",
        "# Making prediction\n",
        "y_pred = model.predict(X_train)\n",
        "\n",
        "mse = mean_squared_error(y_train, y_pred)\n",
        "mae = mean_absolute_error(y_train, y_pred)\n",
        "r2 = r2_score(y_train, y_pred)\n",
        "\n",
        "print(f\"Mean Squared Error: {mse}\")\n",
        "print(f\"Mean Absolute Error: {mae}\")\n",
        "print(f\"R-squared: {r2}\")\n",
        "print()\n",
        "\n",
        "print(\"Test set prediction: -\")\n",
        "\n",
        "# Making prediction\n",
        "y_pred = model.predict(X_test)\n",
        "\n",
        "mse = mean_squared_error(y_test, y_pred)\n",
        "mae = mean_absolute_error(y_test, y_pred)\n",
        "r2 = r2_score(y_test, y_pred)\n",
        "\n",
        "print(f\"Mean Squared Error: {mse}\")\n",
        "print(f\"Mean Absolute Error: {mae}\")\n",
        "print(f\"R-squared: {r2}\")"
      ],
      "metadata": {
        "id": "4bbgbobDXc32",
        "colab": {
          "base_uri": "https://localhost:8080/"
        },
        "outputId": "41e4ce45-7fb3-4f17-cb8f-78c300f0f55b"
      },
      "execution_count": null,
      "outputs": [
        {
          "output_type": "stream",
          "name": "stdout",
          "text": [
            "Train set prediction: -\n",
            "Mean Squared Error: 23996836000.67734\n",
            "Mean Absolute Error: 67001.59268601848\n",
            "R-squared: 0.9821501019230923\n",
            "\n",
            "Test set prediction: -\n",
            "Mean Squared Error: 653188419822.849\n",
            "Mean Absolute Error: 272456.2630208333\n",
            "R-squared: 0.6726581983973959\n"
          ]
        }
      ]
    },
    {
      "cell_type": "code",
      "source": [
        "# from sklearn.model_selection import cross_val_score\n",
        "\n",
        "# cv_scores = cross_val_score(model, X_train, y_train, cv=5, scoring='r2')\n",
        "# print(\"Cross-Validation R² Scores:\", cv_scores)\n",
        "# print(\"Mean CV R²:\", cv_scores.mean())"
      ],
      "metadata": {
        "id": "HuJwcqVKjBjM"
      },
      "execution_count": null,
      "outputs": []
    },
    {
      "cell_type": "code",
      "source": [
        "# !pip install --upgrade xgboost scikit-learn\n",
        "# !pip show xgboost scikit-learn\n",
        "# !pip install scikit-learn==1.1.3"
      ],
      "metadata": {
        "id": "h2iBCLfwe7RB"
      },
      "execution_count": null,
      "outputs": []
    },
    {
      "cell_type": "code",
      "source": [
        "# import pandas as pd\n",
        "# import numpy as np\n",
        "# data = pd.read_csv('/content/data_RealEstateDataChicago.csv')\n",
        "\n",
        "# import warnings\n",
        "# warnings.filterwarnings('ignore')"
      ],
      "metadata": {
        "id": "ALbqBHhKaBcx"
      },
      "execution_count": null,
      "outputs": []
    },
    {
      "cell_type": "code",
      "source": [
        "# from xgboost import XGBRegressor\n",
        "# from sklearn.metrics import mean_squared_error, mean_absolute_error, r2_score\n",
        "# from sklearn.model_selection import RandomizedSearchCV\n",
        "# model = XGBRegressor()\n",
        "\n",
        "# param_space = {\n",
        "#     'n_estimators': [100, 200, 500],           # Number of boosting rounds\n",
        "#     'max_depth': [3, 6, 10, None],             # Maximum depth of trees\n",
        "#     'learning_rate': [0.01, 0.1, 0.2],         # Step size shrinkage\n",
        "#     'subsample': [0.6, 0.8, 1.0],              # Subsample ratio of the training data\n",
        "#     'colsample_bytree': [0.6, 0.8, 1.0],       # Subsample ratio of columns when constructing each tree\n",
        "#     'gamma': [0, 1, 5],                        # Minimum loss reduction required to make a split\n",
        "#     'min_child_weight': [1, 3, 5],             # Minimum sum of instance weights needed in a child\n",
        "#     'reg_alpha': [0, 0.1, 1],                  # L1 regularization term on weights\n",
        "#     'reg_lambda': [1, 1.5, 2],                 # L2 regularization term on weights\n",
        "#     'scale_pos_weight': [1, 2, 5],             # Balancing positive and negative weights\n",
        "#     'tree_method': ['auto', 'exact', 'hist'],  # Tree construction algorithms\n",
        "#     'booster': ['gbtree', 'gblinear', 'dart'], # Booster type\n",
        "#     'random_state': [0,42,1,26,72]\n",
        "#     }\n",
        "\n",
        "\n",
        "\n",
        "# random_search = RandomizedSearchCV(model, param_space, cv=5)\n",
        "# random_search.fit(X_train, y_train)\n",
        "\n",
        "# # Parameter which gives the best results\n",
        "# print(f\"Best Hyperparameters: {random_search.best_params_}\")\n",
        "\n",
        "# # Accuracy of the model after using best parameters\n",
        "# print(f\"Best Score: {random_search.best_score_}\")"
      ],
      "metadata": {
        "id": "l9QYfnxcSEec"
      },
      "execution_count": null,
      "outputs": []
    },
    {
      "cell_type": "markdown",
      "source": [
        "#### Result:\n",
        "\n",
        "### **Model Performance Comparison**\n",
        "1. **Random Forest Regression**\n",
        "   - Train R-squared: **0.883**\n",
        "   - Test R-squared: **0.789** — highest among all models.\n",
        "   - Test Mean Squared Error: **421198499792.35455**\n",
        "   - Test Mean Absolute Error: **244998.35709665914** — relatively lower compared to other models.\n",
        "\n",
        "2. **XGBoost**\n",
        "   - Train R-squared: **0.982**\n",
        "   - Test R-squared: **0.672** — lower than Random Forest but competitive.\n",
        "   - Test Mean Squared Error: **653188419822.849**\n",
        "   - Test Mean Absolute Error: **272456.2630208333**\n",
        "\n",
        "### Conclusion\n",
        "**Random Forest Regression** is the best model here, as it provides a well-balanced performance between training and testing, along with the best test R-squared, the lowest test MSE, and a competitive MAE. **XGBoost** is overfitted due to its significantly high train R-squared."
      ],
      "metadata": {
        "id": "9hxBOjBuvEY3"
      }
    },
    {
      "cell_type": "code",
      "source": [],
      "metadata": {
        "id": "SoTHFqgj0jcE"
      },
      "execution_count": null,
      "outputs": []
    },
    {
      "cell_type": "markdown",
      "source": [
        "##### All ML Models together"
      ],
      "metadata": {
        "id": "NMdRA06VVGqb"
      }
    },
    {
      "cell_type": "code",
      "source": [
        "# # Models\n",
        "# from sklearn.model_selection import train_test_split\n",
        "# from sklearn.linear_model import LinearRegression\n",
        "# from sklearn.ensemble import RandomForestRegressor\n",
        "# from sklearn.svm import SVR\n",
        "# from sklearn.neighbors import KNeighborsRegressor\n",
        "# from sklearn.naive_bayes import GaussianNB\n",
        "# from sklearn.tree import DecisionTreeRegressor\n",
        "# from xgboost import XGBRegressor\n",
        "# from sklearn.ensemble import AdaBoostRegressor\n",
        "\n",
        "# # Evaluation\n",
        "# from sklearn.metrics import mean_absolute_error, mean_squared_error, r2_score"
      ],
      "metadata": {
        "id": "XJfl27muBK4-"
      },
      "execution_count": null,
      "outputs": []
    },
    {
      "cell_type": "code",
      "source": [
        "# models = dict()\n",
        "# models['Linear Regression'] = LinearRegression()\n",
        "# models['Random Forest'] = RandomForestRegressor(n_estimators=550, bootstrap=True, max_depth=20, max_features=None, min_samples_leaf=1, min_samples_split=2, random_state=0)\n",
        "# models['Support Vector Machine'] = SVR(kernel='rbf', gamma='scale')\n",
        "# models['k-Nearest Neighbors'] = KNeighborsRegressor()\n",
        "# models['XGBoost'] = XGBRegressor(max_depth=8, n_estimators=250, random_state=42, learning_rate=0.08, n_jobs=5)\n",
        "# models['AdaBoost'] = AdaBoostRegressor(learning_rate=0.08, n_estimators=250, random_state=2022)\n"
      ],
      "metadata": {
        "id": "yWapbdt6FfCH"
      },
      "execution_count": null,
      "outputs": []
    },
    {
      "cell_type": "code",
      "source": [
        "# for model in models:\n",
        "\n",
        "#     models[model].fit(X_train, y_train)\n",
        "#     print(model + \" model fitting completed.\")"
      ],
      "metadata": {
        "id": "5Bysw4f5Fe-M"
      },
      "execution_count": null,
      "outputs": []
    },
    {
      "cell_type": "code",
      "source": [
        "# print(\"Test Set Prediction:\\n\")\n",
        "\n",
        "# for x in models:\n",
        "#     print('-'*20+x+'-'*20)\n",
        "#     model = models[x]\n",
        "#     y_pred = model.predict(X_test)\n",
        "\n",
        "#     mse = mean_squared_error(y_test, y_pred)\n",
        "#     mae = mean_absolute_error(y_test, y_pred)\n",
        "#     r2 = r2_score(y_test, y_pred)\n",
        "\n",
        "#     print(f\"Mean Squared Error: {mse}\")\n",
        "#     print(f\"Mean Absolute Error: {mae}\")\n",
        "#     print(f\"R-squared: {r2}\")"
      ],
      "metadata": {
        "id": "vjE9boXKFe7Q"
      },
      "execution_count": null,
      "outputs": []
    },
    {
      "cell_type": "code",
      "source": [
        "# print('Summary of R-squared Score: -\\n')\n",
        "# for i in models:\n",
        "#     model = models[i]\n",
        "#     y_pred = model.predict(X_test)  # Get predictions\n",
        "#     r2 = r2_score(y_test, y_pred)   # Calculate R-squared\n",
        "#     print(i + ' Model: ', round(r2, 4))  # Print R-squared using the built-in round function"
      ],
      "metadata": {
        "id": "jTFpqX7lFe3y"
      },
      "execution_count": null,
      "outputs": []
    },
    {
      "cell_type": "code",
      "source": [],
      "metadata": {
        "id": "CcpPh-s2Fezk"
      },
      "execution_count": null,
      "outputs": []
    },
    {
      "cell_type": "code",
      "source": [],
      "metadata": {
        "id": "AbU81Q-y4WZs"
      },
      "execution_count": null,
      "outputs": []
    }
  ],
  "metadata": {
    "colab": {
      "provenance": []
    },
    "kernelspec": {
      "display_name": "Python 3",
      "name": "python3"
    },
    "language_info": {
      "name": "python"
    }
  },
  "nbformat": 4,
  "nbformat_minor": 0
}